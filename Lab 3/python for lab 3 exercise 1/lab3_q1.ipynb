{
 "cells": [
  {
   "cell_type": "code",
   "execution_count": 78,
   "metadata": {},
   "outputs": [
    {
     "name": "stdout",
     "output_type": "stream",
     "text": [
      "A.shape:  (4, 4)\n",
      "B.shape:  (2, 4)\n",
      "alpha.shape:  (4, 4)\n"
     ]
    }
   ],
   "source": [
    "# define vars\n",
    "import numpy as np\n",
    "\n",
    "S = np.array([1, 2, 3, 4]) # state set\n",
    "X = np.array(['H', 'T', 'T', 'end']) # observation set\n",
    "A = np.array([[0.25, 0.25, 0.50, 0.00],\n",
    "              [0.00, 0.50, 0.50, 0.00],\n",
    "              [0.00, 0.00, 0.75, 0.25],\n",
    "              [0.00, 0.00, 0.00, 1.00]]) # state-transition set (transition from state x to state y) -> alpha[state x, state y]\n",
    "\n",
    "B = np.array([[0.50, 0.75, 0.25, 1.00],\n",
    "              [0.50, 0.25, 0.75, 1.00]]) # state-observed set -> B[H||T, state]\n",
    "\n",
    "def get_b(x, state): # get prob of observation x at state i\n",
    "    coin_head = 0.0\n",
    "    if (x == 'H'):\n",
    "        coin_head = B[0, state]\n",
    "    elif (x == 'T'):\n",
    "        coin_head = B[1, state]\n",
    "    elif (x == 'end'):\n",
    "        coin_head = 1.0\n",
    "    return coin_head\n",
    "\n",
    "P = np.array([1.0, 0.0, 0.0, 0.0]) # init-state set\n",
    "\n",
    "alpha = np.array([[0.00, 0.00, 0.00, 0.00],\n",
    "                  [0.00, 0.00, 0.00, 0.00],\n",
    "                  [0.00, 0.00, 0.00, 0.00],\n",
    "                  [0.00, 0.00, 0.00, 0.00]]) # -> A[time, state]\n",
    "\n",
    "print (\"A.shape: \", A.shape)\n",
    "print (\"B.shape: \", B.shape)\n",
    "print (\"alpha.shape: \", alpha.shape)"
   ]
  },
  {
   "cell_type": "code",
   "execution_count": 79,
   "metadata": {},
   "outputs": [
    {
     "name": "stdout",
     "output_type": "stream",
     "text": [
      "alpha @ t = 0 ->  [[0.5 0.  0.  0. ]\n",
      " [0.  0.  0.  0. ]\n",
      " [0.  0.  0.  0. ]\n",
      " [0.  0.  0.  0. ]]\n",
      "alpha @ t = 1  ->  [[0.5     0.      0.      0.     ]\n",
      " [0.0625  0.03125 0.1875  0.     ]\n",
      " [0.      0.      0.      0.     ]\n",
      " [0.      0.      0.      0.     ]]\n",
      "alpha @ t = 2  ->  [[0.5       0.        0.        0.       ]\n",
      " [0.0625    0.03125   0.1875    0.       ]\n",
      " [0.0078125 0.0078125 0.140625  0.046875 ]\n",
      " [0.        0.        0.        0.       ]]\n",
      "alpha @ t = 3  ->  [[0.5        0.         0.         0.        ]\n",
      " [0.0625     0.03125    0.1875     0.        ]\n",
      " [0.0078125  0.0078125  0.140625   0.046875  ]\n",
      " [0.00195312 0.00585938 0.11328125 0.08203125]]\n",
      "final:  0.08203125\n",
      "alpha_s1_t1:  0.03125\n"
     ]
    }
   ],
   "source": [
    "# forward algorithm\n",
    "\n",
    "# init:\n",
    "for i in range(0, len(S)):\n",
    "    val = get_b(X[0], i) * P[i]\n",
    "    alpha[0, i] = val\n",
    "\n",
    "print (\"alpha @ t = 0 -> \", alpha)\n",
    "\n",
    "# induction:\n",
    "# for each time step from 0 -> 3\n",
    "for t in range(0, len(S) - 1):\n",
    "    # for each state i from 0 -> 3\n",
    "    for i in range(len(S)):\n",
    "        sum_array = []\n",
    "        # for each state j from 0 -> 3\n",
    "        for j in range(len(S)):\n",
    "            sum_array.append(alpha[t, j] * A[j, i])\n",
    "        sum_total = np.sum(sum_array)\n",
    "        alpha[t + 1, i] = sum_total * get_b(X[t + 1], i)\n",
    "    print (\"alpha @ t =\", t + 1, \" -> \", alpha)\n",
    "    \n",
    "T = 3\n",
    "for i in range(len(S)):\n",
    "    sum_array = []\n",
    "    sum_array.append(alpha[T, i])\n",
    "\n",
    "# termination: \n",
    "final = np.sum(sum_array)\n",
    "print (\"final: \", final)\n",
    "\n",
    "# in this case, t = 2 is actually t = 1 since we start from t = 0 and not t = 1.\n",
    "# state 1 is still s = 1\n",
    "alpha_s1_t1 = alpha[1, 1]\n",
    "print (\"alpha_s1_t1: \", alpha_s1_t1)"
   ]
  }
 ],
 "metadata": {
  "kernelspec": {
   "display_name": "Python 3.9.12 ('base')",
   "language": "python",
   "name": "python3"
  },
  "language_info": {
   "codemirror_mode": {
    "name": "ipython",
    "version": 3
   },
   "file_extension": ".py",
   "mimetype": "text/x-python",
   "name": "python",
   "nbconvert_exporter": "python",
   "pygments_lexer": "ipython3",
   "version": "3.9.12"
  },
  "orig_nbformat": 4,
  "vscode": {
   "interpreter": {
    "hash": "4872d8d3c2bbc685ce63036ae2af19b2205f6c9572f817ece472ff4ae51ff82f"
   }
  }
 },
 "nbformat": 4,
 "nbformat_minor": 2
}
